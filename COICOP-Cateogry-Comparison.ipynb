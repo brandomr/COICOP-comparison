{
 "cells": [
  {
   "cell_type": "markdown",
   "metadata": {},
   "source": [
    "# COICOP Category Comparison\n",
    "\n",
    "Requires:\n",
    "\n",
    "```\n",
    "gensim==3.8.3\n",
    "fuzzywuzzy==0.18.0\n",
    "pandas==1.0.5\n",
    "```\n",
    "\n",
    "Also, you must download Google's pretrained Word2Vec model: [https://drive.google.com/file/d/0B7XkCwpI5KDYNlNUTTlSS21pQmM/edit?usp=sharing](https://drive.google.com/file/d/0B7XkCwpI5KDYNlNUTTlSS21pQmM/edit?usp=sharing)\n",
    "\n",
    "Unzip that download and put it in this directory. \n",
    "\n",
    "> Note: the pretrained model is 1.5gb"
   ]
  },
  {
   "cell_type": "code",
   "execution_count": 1,
   "metadata": {},
   "outputs": [
    {
     "name": "stderr",
     "output_type": "stream",
     "text": [
      "/Users/brandonrose/opt/anaconda3/envs/py37/lib/python3.7/site-packages/fuzzywuzzy/fuzz.py:11: UserWarning: Using slow pure-python SequenceMatcher. Install python-Levenshtein to remove this warning\n",
      "  warnings.warn('Using slow pure-python SequenceMatcher. Install python-Levenshtein to remove this warning')\n"
     ]
    }
   ],
   "source": [
    "import pandas as pd\n",
    "from fuzzywuzzy import process\n",
    "from gensim.models import Word2Vec"
   ]
  },
  {
   "cell_type": "markdown",
   "metadata": {},
   "source": [
    "## Load COICOP Categories"
   ]
  },
  {
   "cell_type": "code",
   "execution_count": 2,
   "metadata": {},
   "outputs": [],
   "source": [
    "coicop = pd.read_csv('CL_COICOP_20200710_190018.csv')"
   ]
  },
  {
   "cell_type": "code",
   "execution_count": 3,
   "metadata": {},
   "outputs": [
    {
     "data": {
      "text/html": [
       "<div>\n",
       "<style scoped>\n",
       "    .dataframe tbody tr th:only-of-type {\n",
       "        vertical-align: middle;\n",
       "    }\n",
       "\n",
       "    .dataframe tbody tr th {\n",
       "        vertical-align: top;\n",
       "    }\n",
       "\n",
       "    .dataframe thead th {\n",
       "        text-align: right;\n",
       "    }\n",
       "</style>\n",
       "<table border=\"1\" class=\"dataframe\">\n",
       "  <thead>\n",
       "    <tr style=\"text-align: right;\">\n",
       "      <th></th>\n",
       "      <th>Order</th>\n",
       "      <th>Level</th>\n",
       "      <th>Code</th>\n",
       "      <th>Parent</th>\n",
       "      <th>Code.1</th>\n",
       "      <th>Parent.1</th>\n",
       "      <th>Description</th>\n",
       "      <th>Remark</th>\n",
       "    </tr>\n",
       "  </thead>\n",
       "  <tbody>\n",
       "    <tr>\n",
       "      <th>0</th>\n",
       "      <td>1824814</td>\n",
       "      <td>1</td>\n",
       "      <td>10</td>\n",
       "      <td>NaN</td>\n",
       "      <td>TOTAL</td>\n",
       "      <td>NaN</td>\n",
       "      <td>Total</td>\n",
       "      <td>NaN</td>\n",
       "    </tr>\n",
       "    <tr>\n",
       "      <th>1</th>\n",
       "      <td>1824815</td>\n",
       "      <td>1</td>\n",
       "      <td>20</td>\n",
       "      <td>NaN</td>\n",
       "      <td>TOT_X_CP041_042</td>\n",
       "      <td>NaN</td>\n",
       "      <td>Total except actual rents</td>\n",
       "      <td>NaN</td>\n",
       "    </tr>\n",
       "    <tr>\n",
       "      <th>2</th>\n",
       "      <td>1824816</td>\n",
       "      <td>1</td>\n",
       "      <td>30</td>\n",
       "      <td>NaN</td>\n",
       "      <td>CP00</td>\n",
       "      <td>NaN</td>\n",
       "      <td>All-items HICP</td>\n",
       "      <td>NaN</td>\n",
       "    </tr>\n",
       "    <tr>\n",
       "      <th>3</th>\n",
       "      <td>1824817</td>\n",
       "      <td>1</td>\n",
       "      <td>40</td>\n",
       "      <td>NaN</td>\n",
       "      <td>CP01</td>\n",
       "      <td>NaN</td>\n",
       "      <td>Food and non-alcoholic beverages</td>\n",
       "      <td>NaN</td>\n",
       "    </tr>\n",
       "    <tr>\n",
       "      <th>4</th>\n",
       "      <td>1824818</td>\n",
       "      <td>2</td>\n",
       "      <td>50</td>\n",
       "      <td>40.0</td>\n",
       "      <td>CP011</td>\n",
       "      <td>CP01</td>\n",
       "      <td>Food</td>\n",
       "      <td>NaN</td>\n",
       "    </tr>\n",
       "    <tr>\n",
       "      <th>5</th>\n",
       "      <td>1824819</td>\n",
       "      <td>3</td>\n",
       "      <td>60</td>\n",
       "      <td>50.0</td>\n",
       "      <td>CP0111</td>\n",
       "      <td>CP011</td>\n",
       "      <td>Bread and cereals</td>\n",
       "      <td>NaN</td>\n",
       "    </tr>\n",
       "    <tr>\n",
       "      <th>6</th>\n",
       "      <td>1824820</td>\n",
       "      <td>4</td>\n",
       "      <td>70</td>\n",
       "      <td>60.0</td>\n",
       "      <td>CP01111</td>\n",
       "      <td>CP0111</td>\n",
       "      <td>Rice</td>\n",
       "      <td>NaN</td>\n",
       "    </tr>\n",
       "    <tr>\n",
       "      <th>7</th>\n",
       "      <td>1824821</td>\n",
       "      <td>5</td>\n",
       "      <td>80</td>\n",
       "      <td>70.0</td>\n",
       "      <td>CP01111A</td>\n",
       "      <td>CP01111</td>\n",
       "      <td>Long-grain rice (1 kg)</td>\n",
       "      <td>NaN</td>\n",
       "    </tr>\n",
       "    <tr>\n",
       "      <th>8</th>\n",
       "      <td>1824822</td>\n",
       "      <td>4</td>\n",
       "      <td>90</td>\n",
       "      <td>60.0</td>\n",
       "      <td>CP01112</td>\n",
       "      <td>CP0111</td>\n",
       "      <td>Flours and other cereals</td>\n",
       "      <td>NaN</td>\n",
       "    </tr>\n",
       "    <tr>\n",
       "      <th>9</th>\n",
       "      <td>1824823</td>\n",
       "      <td>5</td>\n",
       "      <td>100</td>\n",
       "      <td>90.0</td>\n",
       "      <td>CP01112A</td>\n",
       "      <td>CP01112</td>\n",
       "      <td>Wheat flour (1 kg)</td>\n",
       "      <td>NaN</td>\n",
       "    </tr>\n",
       "  </tbody>\n",
       "</table>\n",
       "</div>"
      ],
      "text/plain": [
       "     Order  Level  Code  Parent           Code.1 Parent.1  \\\n",
       "0  1824814      1    10     NaN            TOTAL      NaN   \n",
       "1  1824815      1    20     NaN  TOT_X_CP041_042      NaN   \n",
       "2  1824816      1    30     NaN             CP00      NaN   \n",
       "3  1824817      1    40     NaN             CP01      NaN   \n",
       "4  1824818      2    50    40.0            CP011     CP01   \n",
       "5  1824819      3    60    50.0           CP0111    CP011   \n",
       "6  1824820      4    70    60.0          CP01111   CP0111   \n",
       "7  1824821      5    80    70.0         CP01111A  CP01111   \n",
       "8  1824822      4    90    60.0          CP01112   CP0111   \n",
       "9  1824823      5   100    90.0         CP01112A  CP01112   \n",
       "\n",
       "                        Description  Remark  \n",
       "0                             Total     NaN  \n",
       "1         Total except actual rents     NaN  \n",
       "2                    All-items HICP     NaN  \n",
       "3  Food and non-alcoholic beverages     NaN  \n",
       "4                              Food     NaN  \n",
       "5                 Bread and cereals     NaN  \n",
       "6                              Rice     NaN  \n",
       "7            Long-grain rice (1 kg)     NaN  \n",
       "8          Flours and other cereals     NaN  \n",
       "9                Wheat flour (1 kg)     NaN  "
      ]
     },
     "execution_count": 3,
     "metadata": {},
     "output_type": "execute_result"
    }
   ],
   "source": [
    "coicop.head(10)"
   ]
  },
  {
   "cell_type": "markdown",
   "metadata": {},
   "source": [
    "## Load Data Sample"
   ]
  },
  {
   "cell_type": "code",
   "execution_count": 4,
   "metadata": {},
   "outputs": [],
   "source": [
    "df = pd.read_csv('output-0000.csv', \n",
    "                 names=['product','price','unit','category','city','store','date'])"
   ]
  },
  {
   "cell_type": "code",
   "execution_count": 5,
   "metadata": {},
   "outputs": [
    {
     "data": {
      "text/html": [
       "<div>\n",
       "<style scoped>\n",
       "    .dataframe tbody tr th:only-of-type {\n",
       "        vertical-align: middle;\n",
       "    }\n",
       "\n",
       "    .dataframe tbody tr th {\n",
       "        vertical-align: top;\n",
       "    }\n",
       "\n",
       "    .dataframe thead th {\n",
       "        text-align: right;\n",
       "    }\n",
       "</style>\n",
       "<table border=\"1\" class=\"dataframe\">\n",
       "  <thead>\n",
       "    <tr style=\"text-align: right;\">\n",
       "      <th></th>\n",
       "      <th>product</th>\n",
       "      <th>price</th>\n",
       "      <th>unit</th>\n",
       "      <th>category</th>\n",
       "      <th>city</th>\n",
       "      <th>store</th>\n",
       "      <th>date</th>\n",
       "    </tr>\n",
       "  </thead>\n",
       "  <tbody>\n",
       "    <tr>\n",
       "      <th>0</th>\n",
       "      <td>Debi Lilly Hydrangea 3 Stem - colors may varyrrn</td>\n",
       "      <td>$8.99</td>\n",
       "      <td>($8.99/each)</td>\n",
       "      <td>Flowers</td>\n",
       "      <td>LA</td>\n",
       "      <td>Vons</td>\n",
       "      <td>2017-01-10 02:00:24</td>\n",
       "    </tr>\n",
       "    <tr>\n",
       "      <th>1</th>\n",
       "      <td>California Grown Deluxe Bouquet - colors may vary</td>\n",
       "      <td>$14.59</td>\n",
       "      <td>($14.59/each)</td>\n",
       "      <td>Flowers</td>\n",
       "      <td>LA</td>\n",
       "      <td>Vons</td>\n",
       "      <td>2017-01-10 02:00:24</td>\n",
       "    </tr>\n",
       "    <tr>\n",
       "      <th>2</th>\n",
       "      <td>Alstroemeria 9 Stem - colors may vary</td>\n",
       "      <td>$6.79</td>\n",
       "      <td>($6.79/each)</td>\n",
       "      <td>Flowers</td>\n",
       "      <td>LA</td>\n",
       "      <td>Vons</td>\n",
       "      <td>2017-01-10 02:00:24</td>\n",
       "    </tr>\n",
       "    <tr>\n",
       "      <th>3</th>\n",
       "      <td>1.50 LB Cinnamon Sugar Tortilla Chips</td>\n",
       "      <td>$5.99</td>\n",
       "      <td>($3.99/lb)</td>\n",
       "      <td>Flowers</td>\n",
       "      <td>LA</td>\n",
       "      <td>Vons</td>\n",
       "      <td>2017-01-10 02:00:24</td>\n",
       "    </tr>\n",
       "    <tr>\n",
       "      <th>4</th>\n",
       "      <td>Lily Stargazer 3 Stem - colors may vary</td>\n",
       "      <td>$8.99</td>\n",
       "      <td>($8.99/each)</td>\n",
       "      <td>Flowers</td>\n",
       "      <td>LA</td>\n",
       "      <td>Vons</td>\n",
       "      <td>2017-01-10 02:00:24</td>\n",
       "    </tr>\n",
       "  </tbody>\n",
       "</table>\n",
       "</div>"
      ],
      "text/plain": [
       "                                             product   price           unit  \\\n",
       "0   Debi Lilly Hydrangea 3 Stem - colors may varyrrn   $8.99   ($8.99/each)   \n",
       "1  California Grown Deluxe Bouquet - colors may vary  $14.59  ($14.59/each)   \n",
       "2              Alstroemeria 9 Stem - colors may vary   $6.79   ($6.79/each)   \n",
       "3              1.50 LB Cinnamon Sugar Tortilla Chips   $5.99     ($3.99/lb)   \n",
       "4            Lily Stargazer 3 Stem - colors may vary   $8.99   ($8.99/each)   \n",
       "\n",
       "  category city store                 date  \n",
       "0  Flowers   LA  Vons  2017-01-10 02:00:24  \n",
       "1  Flowers   LA  Vons  2017-01-10 02:00:24  \n",
       "2  Flowers   LA  Vons  2017-01-10 02:00:24  \n",
       "3  Flowers   LA  Vons  2017-01-10 02:00:24  \n",
       "4  Flowers   LA  Vons  2017-01-10 02:00:24  "
      ]
     },
     "execution_count": 5,
     "metadata": {},
     "output_type": "execute_result"
    }
   ],
   "source": [
    "df.head()"
   ]
  },
  {
   "cell_type": "markdown",
   "metadata": {},
   "source": [
    "## Compare with string similarity (fuzzywuzzy)"
   ]
  },
  {
   "cell_type": "code",
   "execution_count": 6,
   "metadata": {},
   "outputs": [],
   "source": [
    "categories = list(df.category.unique())\n",
    "coicop_categories = list(coicop.Description.unique())"
   ]
  },
  {
   "cell_type": "code",
   "execution_count": 7,
   "metadata": {},
   "outputs": [
    {
     "name": "stdout",
     "output_type": "stream",
     "text": [
      "There are 731 categories in the sample and 734 in the COICOP database\n"
     ]
    }
   ],
   "source": [
    "print(f\"There are {len(categories)} categories in the sample and {len(coicop_categories)} in the COICOP database\")"
   ]
  },
  {
   "cell_type": "code",
   "execution_count": 8,
   "metadata": {},
   "outputs": [
    {
     "data": {
      "text/plain": [
       "['Flowers',\n",
       " 'Toddler-Foods',\n",
       " 'Whiskey',\n",
       " 'Cigarettes',\n",
       " 'Other-Animal-Care',\n",
       " 'Zinc',\n",
       " 'Trash-Bags--Outside',\n",
       " 'Hot-Dogs-Franks',\n",
       " 'Southern-Foods',\n",
       " 'Rice']"
      ]
     },
     "execution_count": 8,
     "metadata": {},
     "output_type": "execute_result"
    }
   ],
   "source": [
    "categories[:10]"
   ]
  },
  {
   "cell_type": "markdown",
   "metadata": {},
   "source": [
    "We can demonstrate this process by matching the term `Flowers` to the COICOP:"
   ]
  },
  {
   "cell_type": "code",
   "execution_count": 9,
   "metadata": {},
   "outputs": [
    {
     "data": {
      "text/plain": [
       "('Gardens, plants and flowers', 90)"
      ]
     },
     "execution_count": 9,
     "metadata": {},
     "output_type": "execute_result"
    }
   ],
   "source": [
    "process.extractOne('Flowers',coicop_categories)"
   ]
  },
  {
   "cell_type": "markdown",
   "metadata": {},
   "source": [
    "Now we can make a dictionary mapping of the sample data categories to COICOP. To save time we'll just run the first 25:"
   ]
  },
  {
   "cell_type": "code",
   "execution_count": 10,
   "metadata": {},
   "outputs": [],
   "source": [
    "category_map = {}\n",
    "\n",
    "for c in categories[:25]:\n",
    "    category_map[c] = process.extractOne(c,coicop_categories)[0]"
   ]
  },
  {
   "cell_type": "code",
   "execution_count": 11,
   "metadata": {},
   "outputs": [
    {
     "data": {
      "text/plain": [
       "{'Flowers': 'Gardens, plants and flowers',\n",
       " 'Toddler-Foods': 'Food',\n",
       " 'Whiskey': 'White bread, loaf (1 kg)',\n",
       " 'Cigarettes': 'Cigarettes',\n",
       " 'Other-Animal-Care': 'Other meats',\n",
       " 'Zinc': 'Beef, minced (1 kg)',\n",
       " 'Trash-Bags--Outside': 'Tea',\n",
       " 'Hot-Dogs-Franks': 'Aeroplanes, microlight aircraft, gliders, hang-gliders and hot-air balloons',\n",
       " 'Southern-Foods': 'Food',\n",
       " 'Rice': 'Rice',\n",
       " 'Tofu-Meat-Alternatives': 'Meat',\n",
       " 'Sherbet-Sorbet': \"Men's T-shirt, short sleeves (1 piece)\",\n",
       " 'Ice': 'Long-grain rice (1 kg)',\n",
       " 'Gourmet-Deli-Condiments': 'Sauces, condiments',\n",
       " 'Yogurt': 'Yoghurt',\n",
       " 'Trail-Mix': 'Tea',\n",
       " 'Soup-Mix-Meals': 'Meat',\n",
       " 'Vinegar': 'Wine',\n",
       " 'Oatmeal-Hot-Cereal': 'Aeroplanes, microlight aircraft, gliders, hang-gliders and hot-air balloons',\n",
       " 'Pastries-Croissants': 'Crisps',\n",
       " 'Soup-Cups-Ramen': 'Garments',\n",
       " 'Water': 'Mineral or spring waters',\n",
       " 'Microwaveable-Soup': 'Vegetables',\n",
       " 'Ready-to-Serve-Soup': 'Garments for infants (0 to 2 years) and children (3 to 13 years)',\n",
       " 'Wipes-Diaper-Refills': 'Wine'}"
      ]
     },
     "execution_count": 11,
     "metadata": {},
     "output_type": "execute_result"
    }
   ],
   "source": [
    "category_map"
   ]
  },
  {
   "cell_type": "markdown",
   "metadata": {},
   "source": [
    "You can see that this fails relatively frequently. One approach is to threshold the match based on token similarity:"
   ]
  },
  {
   "cell_type": "code",
   "execution_count": 12,
   "metadata": {},
   "outputs": [],
   "source": [
    "category_map = {}\n",
    "\n",
    "for c in categories[:25]:\n",
    "    match = process.extractOne(c,coicop_categories)\n",
    "    if match[1] > 85:\n",
    "        category_map[c] = match[0]\n",
    "    else:\n",
    "        category_map[c] = ''"
   ]
  },
  {
   "cell_type": "code",
   "execution_count": 13,
   "metadata": {},
   "outputs": [
    {
     "data": {
      "text/plain": [
       "{'Flowers': 'Gardens, plants and flowers',\n",
       " 'Toddler-Foods': 'Food',\n",
       " 'Whiskey': '',\n",
       " 'Cigarettes': 'Cigarettes',\n",
       " 'Other-Animal-Care': 'Other meats',\n",
       " 'Zinc': '',\n",
       " 'Trash-Bags--Outside': '',\n",
       " 'Hot-Dogs-Franks': 'Aeroplanes, microlight aircraft, gliders, hang-gliders and hot-air balloons',\n",
       " 'Southern-Foods': 'Food',\n",
       " 'Rice': 'Rice',\n",
       " 'Tofu-Meat-Alternatives': 'Meat',\n",
       " 'Sherbet-Sorbet': '',\n",
       " 'Ice': 'Long-grain rice (1 kg)',\n",
       " 'Gourmet-Deli-Condiments': '',\n",
       " 'Yogurt': 'Yoghurt',\n",
       " 'Trail-Mix': '',\n",
       " 'Soup-Mix-Meals': '',\n",
       " 'Vinegar': '',\n",
       " 'Oatmeal-Hot-Cereal': 'Aeroplanes, microlight aircraft, gliders, hang-gliders and hot-air balloons',\n",
       " 'Pastries-Croissants': '',\n",
       " 'Soup-Cups-Ramen': '',\n",
       " 'Water': 'Mineral or spring waters',\n",
       " 'Microwaveable-Soup': '',\n",
       " 'Ready-to-Serve-Soup': 'Garments for infants (0 to 2 years) and children (3 to 13 years)',\n",
       " 'Wipes-Diaper-Refills': ''}"
      ]
     },
     "execution_count": 13,
     "metadata": {},
     "output_type": "execute_result"
    }
   ],
   "source": [
    "category_map"
   ]
  },
  {
   "cell_type": "markdown",
   "metadata": {},
   "source": [
    "## Compare with [Word2Vec](https://en.wikipedia.org/wiki/Word2vec)"
   ]
  },
  {
   "cell_type": "code",
   "execution_count": 14,
   "metadata": {},
   "outputs": [],
   "source": [
    "import gensim.models\n",
    "from gensim.utils import simple_preprocess    \n",
    "\n",
    "def tidy_sentence(sentence, vocabulary):\n",
    "    return [word for word in simple_preprocess(sentence) if word in vocabulary]    \n",
    "\n",
    "def compute_sentence_similarity(sentence_1, sentence_2, model_wv):\n",
    "    vocabulary = set(model_wv.index2word)    \n",
    "    tokens_1 = tidy_sentence(sentence_1, vocabulary)    \n",
    "    tokens_2 = tidy_sentence(sentence_2, vocabulary)    \n",
    "    return model_wv.n_similarity(tokens_1, tokens_2)\n",
    "\n",
    "wv = gensim.models.KeyedVectors.load_word2vec_format('GoogleNews-vectors-negative300.bin', binary=True)  "
   ]
  },
  {
   "cell_type": "markdown",
   "metadata": {},
   "source": [
    "We can try this out:"
   ]
  },
  {
   "cell_type": "code",
   "execution_count": 15,
   "metadata": {},
   "outputs": [
    {
     "data": {
      "text/plain": [
       "0.54233813"
      ]
     },
     "execution_count": 15,
     "metadata": {},
     "output_type": "execute_result"
    }
   ],
   "source": [
    "compute_sentence_similarity('Flowers', 'Garden plants', wv)"
   ]
  },
  {
   "cell_type": "code",
   "execution_count": 16,
   "metadata": {},
   "outputs": [
    {
     "data": {
      "text/plain": [
       "0.18995756"
      ]
     },
     "execution_count": 16,
     "metadata": {},
     "output_type": "execute_result"
    }
   ],
   "source": [
    "compute_sentence_similarity('Flowers', 'toilet paper', wv)"
   ]
  },
  {
   "cell_type": "markdown",
   "metadata": {},
   "source": [
    "Below, we will take the category `Flowers` and iteratively compare it to the COICOP categories until we find the _best match_. \n",
    "\n",
    "Unfortunately, this process is quite slow, but it seems to yield reasonable results."
   ]
  },
  {
   "cell_type": "code",
   "execution_count": 17,
   "metadata": {},
   "outputs": [
    {
     "name": "stdout",
     "output_type": "stream",
     "text": [
      "New best:('Total', 0.064134754)\n",
      "New best:('Total except actual rents', 0.11047731)\n",
      "New best:('All-items HICP', 0.24537386)\n",
      "New best:('Food', 0.2550534)\n",
      "New best:('Rice', 0.2682598)\n",
      "New best:('Pizza and quiche', 0.2731087)\n",
      "New best:('Pasta products and couscous', 0.29805464)\n",
      "New best:('Pasta, without eggs (1 kg)', 0.34275413)\n",
      "New best:('Other fresh, chilled or frozen edible meat', 0.35300505)\n",
      "New best:('Eggs', 0.39279044)\n",
      "New best:('Fruit', 0.45926985)\n",
      "New best:('Root crops, non-starchy bulbs and mushrooms (fresh, chilled or frozen)', 0.46237177)\n",
      "New best:('Dried vegetables, other preserved or processed vegetables', 0.46547884)\n",
      "New best:('Dried vegetables', 0.4772619)\n",
      "New best:('Other tubers and products of tuber vegetables', 0.48629558)\n",
      "New best:('Garden furniture', 0.5104005)\n",
      "New best:('Gardens, plants and flowers', 0.7861436)\n",
      "New best:('Plants and flowers', 0.8398435)\n"
     ]
    }
   ],
   "source": [
    "c = 'Flowers'\n",
    "\n",
    "best = ('',0)\n",
    "\n",
    "for c_ in coicop_categories:\n",
    "    try:\n",
    "        score = compute_sentence_similarity(c, c_, wv)\n",
    "        if score > best[1]:\n",
    "            best = (c_,score)\n",
    "            print(f\"New best:{best}\")\n",
    "    except:\n",
    "        continue"
   ]
  }
 ],
 "metadata": {
  "kernelspec": {
   "display_name": "Python 3",
   "language": "python",
   "name": "python3"
  },
  "language_info": {
   "codemirror_mode": {
    "name": "ipython",
    "version": 3
   },
   "file_extension": ".py",
   "mimetype": "text/x-python",
   "name": "python",
   "nbconvert_exporter": "python",
   "pygments_lexer": "ipython3",
   "version": "3.7.6"
  }
 },
 "nbformat": 4,
 "nbformat_minor": 4
}
